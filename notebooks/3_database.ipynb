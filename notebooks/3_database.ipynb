{
 "cells": [
  {
   "cell_type": "markdown",
   "metadata": {},
   "source": [
    "#### En este punto entiendo que solo se plantean las consultas dado que las tablas mencionadas en el ejercicio no existen, por lo que realizo el esquema de consultas con sqlite3"
   ]
  },
  {
   "cell_type": "markdown",
   "metadata": {},
   "source": [
    "En primer lugar se importaría la librería y se generaría el conector."
   ]
  },
  {
   "cell_type": "code",
   "execution_count": null,
   "metadata": {},
   "outputs": [],
   "source": [
    "import sqlite3\n",
    "import pandas as pd\n",
    "\n",
    "#conexion\n",
    "conn = sqlite3.connect(\"database.db\")  # Reemplaza con tu archivo SQLite\n",
    "\n",
    "query1 = \"\"\"\n",
    "SELECT \n",
    "    c.customer_id,\n",
    "    c.name,\n",
    "    SUM(od.quantity * od.price * (1 - od.discount)) AS total_income\n",
    "FROM \n",
    "    customers c\n",
    "JOIN \n",
    "    orders o ON c.customer_id = o.customer_id\n",
    "JOIN \n",
    "    order_details od ON o.order_id = od.order_id\n",
    "GROUP BY \n",
    "    c.customer_id, c.name\n",
    "ORDER BY \n",
    "    total_income DESC;\n",
    "\"\"\"\n",
    "df_total_income = pd.read_sql_query(query1, conn)\n",
    "print(\"Ingreso total por cliente:\")\n",
    "print(df_total_income)"
   ]
  },
  {
   "cell_type": "markdown",
   "metadata": {},
   "source": [
    "Para esta primera consulta se hace uso de llaves foráneas y primarias en tabla de ordenes y clientes, realizando además una agrupación por cliente. Lo que permite obtener el ingreso total por cliente, el cual se ordena de manera descendente para obtener un ranking o top."
   ]
  },
  {
   "cell_type": "code",
   "execution_count": null,
   "metadata": {},
   "outputs": [],
   "source": [
    "# consulta 2: producto más vendido en cada región\n",
    "query2 = \"\"\"\n",
    "WITH product_volume AS (\n",
    "    SELECT \n",
    "        c.region,\n",
    "        od.product_id,\n",
    "        SUM(od.quantity * od.price) AS total_volume\n",
    "    FROM \n",
    "        customers c\n",
    "    JOIN \n",
    "        orders o ON c.customer_id = o.customer_id\n",
    "    JOIN \n",
    "        order_details od ON o.order_id = od.order_id\n",
    "    GROUP BY \n",
    "        c.region, od.product_id\n",
    ")\n",
    "SELECT \n",
    "    region,\n",
    "    product_id,\n",
    "    MAX(total_volume) AS max_volume\n",
    "FROM \n",
    "    product_volume\n",
    "GROUP BY \n",
    "    region;\n",
    "\"\"\"\n",
    "df_top_product_region = pd.read_sql_query(query2, conn)\n",
    "print(\"\\nProducto más vendido en cada región:\")\n",
    "print(df_top_product_region)"
   ]
  },
  {
   "cell_type": "markdown",
   "metadata": {},
   "source": [
    "Para obtener el producto más vendido por región se deben crear dos tablas, la primera es tipo CTE usando with, donde primero a la tabla customer o cliente se le pega la región, el producto y se calcula el volumen, el cual se totaliza por region por producto en el group by. Finalmente, el resultado de esta tabla se le saca el máximo agrupado por región trayendo el id de producto, lo que en últimas permite obtener el producto con el mayor volumen de ventas por región."
   ]
  },
  {
   "cell_type": "code",
   "execution_count": null,
   "metadata": {},
   "outputs": [],
   "source": [
    "# consulta 3: ingreso promedio por cliente y región para cada mes\n",
    "query3 = \"\"\"\n",
    "SELECT \n",
    "    c.region,\n",
    "    strftime('%Y-%m', o.order_date) AS month,\n",
    "    AVG(od.quantity * od.price * (1 - od.discount)) AS avg_income\n",
    "FROM \n",
    "    customers c\n",
    "JOIN \n",
    "    orders o ON c.customer_id = o.customer_id\n",
    "JOIN \n",
    "    order_details od ON o.order_id = od.order_id\n",
    "GROUP BY \n",
    "    c.region, month;\n",
    "\"\"\"\n",
    "df_avg_income = pd.read_sql_query(query3, conn)\n",
    "print(\"\\nIngreso promedio por cliente y región por mes:\")\n",
    "print(df_avg_income)"
   ]
  },
  {
   "cell_type": "markdown",
   "metadata": {},
   "source": [
    "Para este requerimiento se parte  de un group by por región y mes, que ya permite asegurar la petición, además a la tabla customer se le pega la orden, así se calcula el ingreso promedio y adicional se formatea la fecha de orden al mes para obtener el resultado final"
   ]
  },
  {
   "cell_type": "code",
   "execution_count": null,
   "metadata": {},
   "outputs": [],
   "source": [
    "# consulta 4: top 5 clientes con más ingresos en el último año\n",
    "query4 = \"\"\"\n",
    "WITH last_year_orders AS (\n",
    "    SELECT \n",
    "        *\n",
    "    FROM \n",
    "        orders\n",
    "    WHERE \n",
    "        order_date >= date('now', '-1 year')\n",
    ")\n",
    "SELECT \n",
    "    c.customer_id,\n",
    "    c.name,\n",
    "    SUM(od.quantity * od.price * (1 - od.discount)) AS total_income,\n",
    "    COUNT(DISTINCT o.order_id) AS total_orders\n",
    "FROM \n",
    "    customers c\n",
    "JOIN \n",
    "    last_year_orders o ON c.customer_id = o.customer_id\n",
    "JOIN \n",
    "    order_details od ON o.order_id = od.order_id\n",
    "GROUP BY \n",
    "    c.customer_id, c.name\n",
    "ORDER BY \n",
    "    total_income DESC\n",
    "LIMIT 5;\n",
    "\"\"\"\n",
    "df_top_customers = pd.read_sql_query(query4, conn)\n",
    "print(\"\\nTop 5 clientes con más ingresos en el último año:\")\n",
    "print(df_top_customers)\n",
    "\n",
    "conn.close()"
   ]
  },
  {
   "cell_type": "markdown",
   "metadata": {},
   "source": [
    "Para esta consulta vuelvo a hacer uso del with, ¿Por qué? pporque se requieren tener tablas intermedias auxiliares para el calculo final. Con last_year_orders obtengo el año más reciente o el último año, después hago los cálculos de ingreso y volumen con costumer y ordenes y el ranking de 5 con más ingresos pues se obtiene simpemente con el order by limitado a 5 o truncado a 5. Finalizo cerrando la conexión de la API de sqlite. Este tipo de ejercicios también se pueden realizar con pysql."
   ]
  }
 ],
 "metadata": {
  "kernelspec": {
   "display_name": "Python 3",
   "language": "python",
   "name": "python3"
  },
  "language_info": {
   "name": "python",
   "version": "3.11.9"
  }
 },
 "nbformat": 4,
 "nbformat_minor": 2
}
